{
 "cells": [
  {
   "metadata": {},
   "cell_type": "markdown",
   "source": [
    "# Candle API Examples\n",
    "\n",
    "---\n",
    "\n",
    "## Install Package"
   ],
   "id": "fa0f92959b87c0e9"
  },
  {
   "cell_type": "code",
   "id": "initial_id",
   "metadata": {
    "collapsed": true
   },
   "source": "%pip install .. ipywidgets",
   "outputs": [],
   "execution_count": null
  },
  {
   "metadata": {},
   "cell_type": "code",
   "source": [
    "import candle_api\n",
    "import threading\n",
    "import ipywidgets as widgets\n",
    "import time"
   ],
   "id": "f029a2f1ee912b90",
   "outputs": [],
   "execution_count": null
  },
  {
   "metadata": {},
   "cell_type": "markdown",
   "source": "## Find Device",
   "id": "729d9099ff556924"
  },
  {
   "metadata": {},
   "cell_type": "code",
   "source": [
    "devs = candle_api.list_device()\n",
    "\n",
    "if devs:\n",
    "    sel = widgets.Dropdown(\n",
    "        options=[d.serial_number for d in devs],\n",
    "        value=devs[0].serial_number,\n",
    "        disabled=False\n",
    "    )\n",
    "    inf = widgets.Output()\n",
    "\n",
    "    def update_inf(s):\n",
    "        global dev\n",
    "        dev = next(d for d in devs if d.serial_number == s)\n",
    "        inf.clear_output()\n",
    "        with inf:\n",
    "            print(f'vendor_id: {dev.vendor_id:04X}')\n",
    "            print(f'product_id: {dev.product_id:04X}')\n",
    "            print(f'manufacturer: {dev.manufacturer}')\n",
    "            print(f'product: {dev.product}')\n",
    "            print(f'serial_number: {dev.serial_number}')\n",
    "\n",
    "    def on_sel_change(change):\n",
    "        update_inf(change.new)\n",
    "\n",
    "    update_inf(devs[0].serial_number)\n",
    "    sel.observe(on_sel_change, names='value')\n",
    "    display(widgets.VBox([sel, inf]))\n",
    "else:\n",
    "    print('No devices found')"
   ],
   "id": "3ebb56c85b314023",
   "outputs": [],
   "execution_count": null
  },
  {
   "metadata": {},
   "cell_type": "markdown",
   "source": "## Open Device",
   "id": "867a71e7c5304d0f"
  },
  {
   "metadata": {},
   "cell_type": "code",
   "source": "dev.open()",
   "id": "2bfc9dce52e21671",
   "outputs": [],
   "execution_count": null
  },
  {
   "metadata": {},
   "cell_type": "markdown",
   "source": "## Open Channel",
   "id": "d43c413c50f656fe"
  },
  {
   "metadata": {},
   "cell_type": "code",
   "source": [
    "ch = dev[0]\n",
    "ch.start(candle_api.CandleMode(listen_only=True, loop_back=True, fd=ch.feature.fd))"
   ],
   "id": "175eb1fbde1f0198",
   "outputs": [],
   "execution_count": null
  },
  {
   "metadata": {},
   "cell_type": "markdown",
   "source": "## Send and Receive",
   "id": "d88d9b86d2108fa1"
  },
  {
   "metadata": {},
   "cell_type": "code",
   "source": [
    "running = True\n",
    "\n",
    "def polling_cb():\n",
    "    rx_cnt = 0\n",
    "    tx_cnt = 0\n",
    "    err_cnt = 0\n",
    "    et = st = time.time()\n",
    "    try:\n",
    "        while running:\n",
    "            et = time.time()\n",
    "            frame = ch.receive(1)\n",
    "            if frame.frame_type.error_frame:\n",
    "                err_cnt += 1\n",
    "            else:\n",
    "                if frame.frame_type.rx:\n",
    "                    rx_cnt += 1\n",
    "                else:\n",
    "                    tx_cnt += 1\n",
    "    except TimeoutError:\n",
    "        pass\n",
    "    print(f'tx: {tx_cnt}, rx {rx_cnt}, err: {err_cnt}, dt: {et - st} s')\n",
    "\n",
    "polling_thread = threading.Thread(target=polling_cb)\n",
    "polling_thread.start()\n",
    "\n",
    "for i in range(200000):\n",
    "    ch.send(candle_api.CandleCanFrame(candle_api.CandleFrameType(), 0x123, 8, b'12345678'), 1)\n",
    "\n",
    "time.sleep(1)\n",
    "running = False\n",
    "polling_thread.join()"
   ],
   "id": "27071153d0b3ed0e",
   "outputs": [],
   "execution_count": null
  },
  {
   "metadata": {},
   "cell_type": "markdown",
   "source": "## Close Device",
   "id": "7a5602f5a6a369e5"
  },
  {
   "metadata": {},
   "cell_type": "code",
   "source": "dev.close()",
   "id": "dfb10906e81fddb",
   "outputs": [],
   "execution_count": null
  }
 ],
 "metadata": {
  "kernelspec": {
   "display_name": "Python 3",
   "language": "python",
   "name": "python3"
  },
  "language_info": {
   "codemirror_mode": {
    "name": "ipython",
    "version": 2
   },
   "file_extension": ".py",
   "mimetype": "text/x-python",
   "name": "python",
   "nbconvert_exporter": "python",
   "pygments_lexer": "ipython2",
   "version": "2.7.6"
  }
 },
 "nbformat": 4,
 "nbformat_minor": 5
}
